{
  "nbformat": 4,
  "nbformat_minor": 0,
  "metadata": {
    "colab": {
      "name": "AlLab.ipynb",
      "version": "0.3.2",
      "provenance": [],
      "collapsed_sections": [],
      "include_colab_link": true
    },
    "kernelspec": {
      "name": "python3",
      "display_name": "Python 3"
    }
  },
  "cells": [
    {
      "cell_type": "markdown",
      "metadata": {
        "id": "view-in-github",
        "colab_type": "text"
      },
      "source": [
        "<a href=\"https://colab.research.google.com/github/praveenclaws/python/blob/master/AlLab.ipynb\" target=\"_parent\"><img src=\"https://colab.research.google.com/assets/colab-badge.svg\" alt=\"Open In Colab\"/></a>"
      ]
    },
    {
      "metadata": {
        "id": "drM8VjpE_tXx",
        "colab_type": "code",
        "outputId": "2ea12d3f-350b-4ef2-c844-f1ed9a6cb455",
        "colab": {
          "base_uri": "https://localhost:8080/",
          "height": 639
        }
      },
      "cell_type": "code",
      "source": [
        "import random\n",
        "import time\n",
        "from matplotlib import pyplot as plt\n",
        "\n",
        "def search(mylist, key):\n",
        "    n = len(mylist)\n",
        "    beg = 0\n",
        "    end = n -1\n",
        "    while(beg <= end):\n",
        "        mid = int((beg+end) / 2)\n",
        "        if(mylist[mid] == key):\n",
        "            return mid\n",
        "        elif(mylist[mid] > key):\n",
        "            end = mid - 1\n",
        "        else:\n",
        "            beg = mid + 1\n",
        "    return -1\n",
        "        \n",
        "best = []\n",
        "bestRes = []\n",
        "worst = []\n",
        "worstRes = []\n",
        "avg = []\n",
        "avgTime = 0.0\n",
        "ip = []\n",
        "\n",
        "n = int(input())\n",
        "\n",
        "for i in range(n):\n",
        "    alist = []\n",
        "    size = int(input())\n",
        "    ip.append(size)\n",
        "    for j in range(size):\n",
        "        alist.append(random.randrange(0,1000))\n",
        "    alist.sort()\n",
        "    m = int((len(alist) - 1) / 2)\n",
        "\n",
        "    #worstCase\n",
        "    start = time.time()\n",
        "    res = search(alist,-1)\n",
        "    end = time.time()\n",
        "    worst.append(end - start)\n",
        "    worstRes.append(res)\n",
        "    #bestCase\n",
        "    start = time.time()\n",
        "    res = search(alist,alist[m])\n",
        "    end = time.time()\n",
        "    best.append(end - start)\n",
        "    bestRes.append(res)\n",
        "    #avgCase\n",
        "    for i in range(size):\n",
        "        start = time.time()\n",
        "        search(alist,alist[i])\n",
        "        end = time.time()\n",
        "        avgTime += (end - start)\n",
        "    avgTime /= size\n",
        "    avg.append(avgTime)\n",
        "\n",
        "print(best)\n",
        "print(bestRes)\n",
        "print(worst)\n",
        "print(worstRes)\n",
        "print(avg)\n",
        "\n",
        "plt.plot(ip,best , label='best')\n",
        "plt.plot(ip,worst, label='worst')\n",
        "plt.plot(ip,avg, label='avg')\n",
        "#plt.yscale('log')\n",
        "plt.legend()\n",
        "plt.show()\n"
      ],
      "execution_count": 0,
      "outputs": [
        {
          "output_type": "stream",
          "text": [
            "10\n",
            "10\n",
            "100\n",
            "500\n",
            "10000\n",
            "20000\n",
            "50000\n",
            "100000\n",
            "150000\n",
            "500000\n",
            "1000000\n",
            "[1.6689300537109375e-06, 1.1920928955078125e-06, 1.430511474609375e-06, 1.6689300537109375e-06, 1.430511474609375e-06, 1.9073486328125e-06, 1.9073486328125e-06, 2.1457672119140625e-06, 2.1457672119140625e-06, 1.6689300537109375e-06]\n",
            "[4, 49, 249, 4999, 9999, 24999, 49999, 74999, 249999, 499999]\n",
            "[5.245208740234375e-06, 7.62939453125e-06, 8.821487426757812e-06, 1.0251998901367188e-05, 1.0251998901367188e-05, 1.239776611328125e-05, 1.3828277587890625e-05, 1.52587890625e-05, 1.7881393432617188e-05, 1.4066696166992188e-05]\n",
            "[-1, -1, -1, -1, -1, -1, -1, -1, -1, -1]\n",
            "[2.1696090698242187e-06, 3.3190250396728514e-06, 3.791294574737549e-06, 3.6675429783344267e-06, 3.948275837781242e-06, 3.911092568727205e-06, 3.949616919305814e-06, 3.889852469593752e-06, 3.88014522324742e-06, 3.845311468722494e-06]\n"
          ],
          "name": "stdout"
        },
        {
          "output_type": "display_data",
          "data": {
            "image/png": "[encoded data removed]",
            "text/plain": [
              "<Figure size 576x396 with 1 Axes>"
            ]
          },
          "metadata": {
            "tags": []
          }
        }
      ]
    },
    {
      "metadata": {
        "id": "giC56RKZ6Pb0",
        "colab_type": "code",
        "colab": {}
      },
      "cell_type": "code",
      "source": [
        "import random\n",
        "import time\n",
        "from matplotlib import pyplot as plt\n",
        "\n",
        "def search(mylist, key):\n",
        "    for i in range(len(mylist)):\n",
        "        if mylist[i] == key:\n",
        "            return i\n",
        "    return -1\n",
        "\n",
        "best = []\n",
        "bestRes = []\n",
        "worst = []\n",
        "worstRes = []\n",
        "avg = []\n",
        "avgTime = 0.0\n",
        "ip = []\n",
        "\n",
        "n = int(input())\n",
        "\n",
        "for i in range(n):\n",
        "    alist = []\n",
        "    size = int(input())\n",
        "    ip.append(size)\n",
        "    for j in range(size):\n",
        "        alist.append(random.randrange(0,1000))\n",
        "    #bestCase\n",
        "    start = time.time()\n",
        "    res = search(alist,alist[0])\n",
        "    end = time.time()\n",
        "    best.append(end - start)\n",
        "    bestRes.append(res)\n",
        "    #worstCase\n",
        "    start = time.time()\n",
        "    res = search(alist,-1)\n",
        "    end = time.time()\n",
        "    worst.append(end - start)\n",
        "    worstRes.append(res)\n",
        "\n",
        "    #avgCase\n",
        "    for i in range(size):\n",
        "        start = time.time()\n",
        "        search(alist,alist[i])\n",
        "        end = time.time()\n",
        "        avgTime += (end - start)\n",
        "    avgTime /= size\n",
        "    avg.append(avgTime)\n",
        "\n",
        "print(best)\n",
        "print(bestRes)\n",
        "print(worst)\n",
        "print(worstRes)\n",
        "print(avg)\n",
        "\n",
        "plt.plot(ip,best, label='best')\n",
        "plt.plot(ip,worst, label='worst')\n",
        "plt.plot(ip,avg, label='avg')\n",
        "plt.yscale('log')\n",
        "plt.legend()\n",
        "plt.show()\n"
      ],
      "execution_count": 0,
      "outputs": []
    }
  ]
}